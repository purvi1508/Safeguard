{
 "cells": [
  {
   "cell_type": "code",
   "execution_count": null,
   "id": "8d6f2327",
   "metadata": {},
   "outputs": [],
   "source": [
    "import os\n",
    "from safeguard_toolkit.scanners.permissions_checker import PermissionChecker\n",
    "\n",
    "def test_permissions_checker():\n",
    "    base_path = \"examples/permissions_checker\"\n",
    "    checker = PermissionChecker(base_path)\n",
    "    checker.scan_path(base_path)\n",
    "    unsafe_paths = checker.get_unsafe_paths()\n",
    "    \n",
    "    for path, issue in unsafe_paths:\n",
    "        print(f\"{issue}: {path}\")\n",
    "\n",
    "if __name__ == \"__main__\":\n",
    "    test_permissions_checker()\n"
   ]
  }
 ],
 "metadata": {
  "language_info": {
   "name": "python"
  }
 },
 "nbformat": 4,
 "nbformat_minor": 5
}
