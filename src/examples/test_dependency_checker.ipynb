{
 "cells": [
  {
   "cell_type": "markdown",
   "id": "476d3882",
   "metadata": {},
   "source": [
    "# DependencyChecker Demonstration Notebook\n",
    "\n",
    "This notebook demonstrates all major features of the `DependencyChecker` class in a practical manner.  \n",
    "It includes parsing, resolution, vulnerability detection, outdated package check, license checks, and report generation.\n",
    "\n",
    "---\n",
    "\n",
    "## 1. Analyze a `pyproject.toml` File\n",
    "\n",
    "The following cell scans a `pyproject.toml` file for dependency issues and generates a detailed JSON report.\n",
    "\n",
    "---\n"
   ]
  },
  {
   "cell_type": "code",
   "execution_count": 1,
   "id": "6709de2c",
   "metadata": {},
   "outputs": [
    {
     "name": "stdout",
     "output_type": "stream",
     "text": [
      "Report saved to examples/dependency_checker_project/dependency_report_pyproject.json\n"
     ]
    }
   ],
   "source": [
    "from safeguard_toolkit.scanners.dependency_checker import DependencyChecker\n",
    "import json \n",
    "\n",
    "checker = DependencyChecker(path=\"examples/dependency_checker_project/pyproject.toml\")\n",
    "checker.run_all_checks()\n",
    "report = checker.generate_report()\n",
    "\n",
    "output_path = \"examples/dependency_checker_project/dependency_report_pyproject.json\"\n",
    "with open(output_path, \"w\") as f:\n",
    "    json.dump(report, f, indent=2)\n",
    "\n",
    "print(f\"Report saved to {output_path}\")"
   ]
  },
  {
   "cell_type": "markdown",
   "id": "4655b8c8",
   "metadata": {},
   "source": [
    "---\n",
    "\n",
    "## 2. Analyze a `Pipfile`\n",
    "\n",
    "This cell demonstrates scanning a `Pipfile` for dependency issues and saving the results as a JSON report.\n",
    "\n",
    "---\n"
   ]
  },
  {
   "cell_type": "code",
   "execution_count": 2,
   "id": "934e7e1f",
   "metadata": {},
   "outputs": [
    {
     "name": "stdout",
     "output_type": "stream",
     "text": [
      "Report saved to examples/dependency_checker_project/dependency_report_Pipfile.json\n"
     ]
    }
   ],
   "source": [
    "from safeguard_toolkit.scanners.dependency_checker import DependencyChecker\n",
    "import json \n",
    "\n",
    "checker = DependencyChecker(path=\"examples/dependency_checker_project/Pipfile\")\n",
    "checker.run_all_checks()\n",
    "report = checker.generate_report()\n",
    "\n",
    "output_path = \"examples/dependency_checker_project/dependency_report_Pipfile.json\"\n",
    "with open(output_path, \"w\") as f:\n",
    "    json.dump(report, f, indent=2)\n",
    "\n",
    "print(f\"Report saved to {output_path}\")"
   ]
  },
  {
   "cell_type": "markdown",
   "id": "f45a7e51",
   "metadata": {},
   "source": [
    "---\n",
    "\n",
    "## 3. Analyze a `requirements.txt` File\n",
    "\n",
    "This cell scans a `requirements.txt` file and outputs a JSON report of all findings.\n",
    "\n",
    "---\n"
   ]
  },
  {
   "cell_type": "code",
   "execution_count": 3,
   "id": "e8ac83f0",
   "metadata": {},
   "outputs": [
    {
     "name": "stdout",
     "output_type": "stream",
     "text": [
      "Report saved to examples/dependency_checker_project/dependency_report_requirements.json\n"
     ]
    }
   ],
   "source": [
    "from safeguard_toolkit.scanners.dependency_checker import DependencyChecker\n",
    "import json \n",
    "\n",
    "checker = DependencyChecker(path=\"examples/dependency_checker_project/requirements.txt\")\n",
    "checker.run_all_checks()\n",
    "report = checker.generate_report()\n",
    "\n",
    "output_path = \"examples/dependency_checker_project/dependency_report_requirements.json\"\n",
    "with open(output_path, \"w\") as f:\n",
    "    json.dump(report, f, indent=2)\n",
    "\n",
    "print(f\"Report saved to {output_path}\")"
   ]
  },
  {
   "cell_type": "markdown",
   "id": "cd18d8cc",
   "metadata": {},
   "source": [
    "---\n",
    "\n",
    "## 4. Analyze an Entire Project Directory\n",
    "\n",
    "This cell demonstrates scanning an entire project directory for all supported dependency files and generating a consolidated report.\n",
    "\n",
    "---\n"
   ]
  },
  {
   "cell_type": "code",
   "execution_count": 4,
   "id": "be377e72",
   "metadata": {},
   "outputs": [
    {
     "name": "stdout",
     "output_type": "stream",
     "text": [
      "Report saved to examples/dependency_checker_project/dependency.json\n"
     ]
    }
   ],
   "source": [
    "from safeguard_toolkit.scanners.dependency_checker import DependencyChecker\n",
    "import json \n",
    "\n",
    "checker = DependencyChecker(path=\"examples/dependency_checker_project\")\n",
    "checker.run_all_checks()\n",
    "report = checker.generate_report()\n",
    "\n",
    "output_path = \"examples/dependency_checker_project/dependency.json\"\n",
    "with open(output_path, \"w\") as f:\n",
    "    json.dump(report, f, indent=2)\n",
    "\n",
    "print(f\"Report saved to {output_path}\")"
   ]
  },
  {
   "cell_type": "code",
   "execution_count": null,
   "id": "b273bf8c",
   "metadata": {},
   "outputs": [],
   "source": []
  },
  {
   "cell_type": "code",
   "execution_count": null,
   "id": "e7049a48",
   "metadata": {},
   "outputs": [],
   "source": []
  },
  {
   "cell_type": "code",
   "execution_count": null,
   "id": "a8e89509",
   "metadata": {},
   "outputs": [],
   "source": []
  }
 ],
 "metadata": {
  "kernelspec": {
   "display_name": ".venv",
   "language": "python",
   "name": "python3"
  },
  "language_info": {
   "codemirror_mode": {
    "name": "ipython",
    "version": 3
   },
   "file_extension": ".py",
   "mimetype": "text/x-python",
   "name": "python",
   "nbconvert_exporter": "python",
   "pygments_lexer": "ipython3",
   "version": "3.13.3"
  }
 },
 "nbformat": 4,
 "nbformat_minor": 5
}
