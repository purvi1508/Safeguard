{
 "cells": [
  {
   "cell_type": "markdown",
   "id": "6d283b6e",
   "metadata": {},
   "source": [
    "# ConfigScanner Demonstration Notebook\n",
    "\n",
    "This notebook demonstrates the main features of the `ConfigScanner` class.  \n",
    "You'll see how to scan directories and files for risky configuration values, handle nested configs, and deal with parsing errors.\n",
    "\n",
    "---"
   ]
  },
  {
   "cell_type": "markdown",
   "id": "1e7c7453",
   "metadata": {},
   "source": [
    "## 1. Scanning a Directory\n",
    "\n",
    "**Scenario:**  \n",
    "You run the scanner on a project folder containing various config files:\n"
   ]
  },
  {
   "cell_type": "code",
   "execution_count": 9,
   "id": "d8a970a9",
   "metadata": {},
   "outputs": [
    {
     "name": "stdout",
     "output_type": "stream",
     "text": [
      "{\n",
      "    \"file\": \"examples/config_scanner_project/parsing.json\",\n",
      "    \"error\": \"Failed to parse file: Expecting property name enclosed in double quotes: line 4 column 1 (char 49)\"\n",
      "}\n",
      "{\n",
      "    \"file\": \"examples/config_scanner_project/.env\",\n",
      "    \"line\": null,\n",
      "    \"key\": \"DEBUG\",\n",
      "    \"value\": \"true\",\n",
      "    \"issue\": \"Risky configuration: DEBUG=true\"\n",
      "}\n"
     ]
    }
   ],
   "source": [
    "import json\n",
    "from safeguard_toolkit.scanners.config_scanner import ConfigScanner\n",
    "\n",
    "scanner = ConfigScanner(path=\"examples/config_scanner_project\")\n",
    "scanner.scan()\n",
    "issues = scanner.get_issues()\n",
    "\n",
    "for issue in issues:\n",
    "    print(json.dumps(issue, indent=4))\n",
    "\n"
   ]
  },
  {
   "cell_type": "markdown",
   "id": "ca2d2b4b",
   "metadata": {},
   "source": [
    "**What happens:**  \n",
    "- ConfigScanner collects all `.env`, `.yaml`, `.yml`, and `.json` files in the folder.\n",
    "- Each file is parsed using the appropriate parser (`yaml.safe_load`, `json.load`, or a .env parser).\n",
    "- The parsed data is recursively scanned to detect risky config keys/values.\n",
    "- Issues are collected and returned for review.\n",
    "\n",
    "---"
   ]
  },
  {
   "cell_type": "markdown",
   "id": "b5422fae",
   "metadata": {},
   "source": [
    "## 2. Detecting Risky Configuration Values\n",
    "\n",
    "**Example:**  \n",
    "Scan a single `.env` file for risky values.\n",
    "\n",
    "---"
   ]
  },
  {
   "cell_type": "code",
   "execution_count": 10,
   "id": "0ff05dfa",
   "metadata": {},
   "outputs": [
    {
     "name": "stdout",
     "output_type": "stream",
     "text": [
      "{\n",
      "    \"file\": \"examples/config_scanner_project/.env\",\n",
      "    \"line\": null,\n",
      "    \"key\": \"DEBUG\",\n",
      "    \"value\": \"true\",\n",
      "    \"issue\": \"Risky configuration: DEBUG=true\"\n",
      "}\n"
     ]
    }
   ],
   "source": [
    "import json\n",
    "from safeguard_toolkit.scanners.config_scanner import ConfigScanner\n",
    "\n",
    "scanner = ConfigScanner(path=\"examples/config_scanner_project/.env\")\n",
    "scanner.scan()\n",
    "issues = scanner.get_issues()\n",
    "\n",
    "for issue in issues:\n",
    "    print(json.dumps(issue, indent=4))\n"
   ]
  },
  {
   "cell_type": "markdown",
   "id": "7e70e533",
   "metadata": {},
   "source": [
    "## 3. Handling Deeply Nested Configurations\n",
    "\n",
    "**Example:**  \n",
    "Scan a YAML file with nested configuration keys.\n",
    "\n",
    "---"
   ]
  },
  {
   "cell_type": "code",
   "execution_count": 11,
   "id": "fbd5ca4e",
   "metadata": {},
   "outputs": [],
   "source": [
    "import json\n",
    "from safeguard_toolkit.scanners.config_scanner import ConfigScanner\n",
    "\n",
    "scanner = ConfigScanner(path=\"examples/config_scanner_project/config.yaml\")\n",
    "scanner.scan()\n",
    "issues = scanner.get_issues()\n",
    "\n",
    "for issue in issues:\n",
    "    print(json.dumps(issue, indent=4))\n"
   ]
  },
  {
   "cell_type": "markdown",
   "id": "e188d781",
   "metadata": {},
   "source": [
    "## 4. Parsing Errors\n",
    "\n",
    "**Example:**  \n",
    "Scan a file with invalid JSON/YAML to see how parsing errors are reported.\n",
    "\n",
    "---"
   ]
  },
  {
   "cell_type": "code",
   "execution_count": 12,
   "id": "ef65c6dd",
   "metadata": {},
   "outputs": [
    {
     "name": "stdout",
     "output_type": "stream",
     "text": [
      "{\n",
      "    \"file\": \"examples/config_scanner_project/parsing.json\",\n",
      "    \"error\": \"Failed to parse file: Expecting property name enclosed in double quotes: line 4 column 1 (char 49)\"\n",
      "}\n"
     ]
    }
   ],
   "source": [
    "import json\n",
    "from safeguard_toolkit.scanners.config_scanner import ConfigScanner\n",
    "\n",
    "scanner = ConfigScanner(path=\"examples/config_scanner_project/parsing.json\")\n",
    "scanner.scan()\n",
    "issues = scanner.get_issues()\n",
    "\n",
    "for issue in issues:\n",
    "    print(json.dumps(issue, indent=4))\n"
   ]
  },
  {
   "cell_type": "markdown",
   "id": "647ac6fa",
   "metadata": {},
   "source": [
    "---\n",
    "\n",
    "## Next Steps\n",
    "\n",
    "- Try scanning other config files or directories.\n",
    "- Experiment with custom risky values or secret patterns.\n",
    "- Integrate with your CI/CD pipeline for automated config checks.\n",
    "\n",
    "---"
   ]
  },
  {
   "cell_type": "markdown",
   "id": "565e7a5c",
   "metadata": {},
   "source": []
  }
 ],
 "metadata": {
  "kernelspec": {
   "display_name": ".venv",
   "language": "python",
   "name": "python3"
  },
  "language_info": {
   "codemirror_mode": {
    "name": "ipython",
    "version": 3
   },
   "file_extension": ".py",
   "mimetype": "text/x-python",
   "name": "python",
   "nbconvert_exporter": "python",
   "pygments_lexer": "ipython3",
   "version": "3.13.3"
  }
 },
 "nbformat": 4,
 "nbformat_minor": 5
}
